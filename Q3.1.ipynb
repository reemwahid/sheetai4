{
 "cells": [
  {
   "cell_type": "code",
   "execution_count": null,
   "id": "c4c61bd1",
   "metadata": {},
   "outputs": [],
   "source": [
    "x =Symbol (\"x\")\n",
    "y =Symbol (\"y\")\n",
    "hate=Symbol (\"hate\")\n",
    "\n",
    "enemies =Symbol (\"enemies\")\n",
    "\n",
    "\n",
    "knowledge3 = And(\n",
    " Implication(hate(x,y)&hate(y,x)==>enemies(x,y) )\n",
    ")\n",
    "print(knowledge3.formula())"
   ]
  }
 ],
 "metadata": {
  "kernelspec": {
   "display_name": "Python 3",
   "language": "python",
   "name": "python3"
  },
  "language_info": {
   "codemirror_mode": {
    "name": "ipython",
    "version": 3
   },
   "file_extension": ".py",
   "mimetype": "text/x-python",
   "name": "python",
   "nbconvert_exporter": "python",
   "pygments_lexer": "ipython3",
   "version": "3.8.8"
  }
 },
 "nbformat": 4,
 "nbformat_minor": 5
}
