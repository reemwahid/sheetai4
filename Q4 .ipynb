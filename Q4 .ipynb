{
 "cells": [
  {
   "cell_type": "code",
   "execution_count": null,
   "id": "3a129709",
   "metadata": {},
   "outputs": [],
   "source": [
    "# Import libraries\n",
    "import aima.utils\n",
    "import aima.logic\n",
    "# The main entry point for this module\n",
    "def main():\n",
    "    \n",
    " # Create an array to hold clauses\n",
    "     clauses = []\n",
    "     # Add first-order logic clauses (rules and fact)\n",
    "     clauses.append(aima.utils.expr(\"(woman( jia) & man(john) & healthy(jia) & healthy( john) & wealthy(john)\n",
    "    & wealthy & healthy ) ==> traveller(x)\")) \n",
    "     clauses.append(aima.utils.expr(\"wealthy(john),healthy(john))\n",
    "     clauses.append(aima.utils.expr(\"healthy(jia)\")\n",
    "     clauses.append(aima.utils.expr(\"traveller(john)\")\n",
    "     clauses.append(aima.utils.expr(\"(travel (healthy & wealthy)) ==> travel (john)\n",
    "\n",
    " \n",
    "     # Create a first-order logic knowledge base (KB) with clauses\n",
    "     KB = aima.logic.FolKB(clauses)\n",
    "\n",
    "     print('traveller')\n",
    "     print(traveller)\n",
    "     print('\\ntravel?')\n",
    "     print(travel)\n",
    "\n",
    "     print()\n",
    " # Tell python to run main method\n",
    "if __name__ == \"__main__\": main()\n"
   ]
  }
 ],
 "metadata": {
  "kernelspec": {
   "display_name": "Python 3",
   "language": "python",
   "name": "python3"
  },
  "language_info": {
   "codemirror_mode": {
    "name": "ipython",
    "version": 3
   },
   "file_extension": ".py",
   "mimetype": "text/x-python",
   "name": "python",
   "nbconvert_exporter": "python",
   "pygments_lexer": "ipython3",
   "version": "3.8.8"
  }
 },
 "nbformat": 4,
 "nbformat_minor": 5
}
