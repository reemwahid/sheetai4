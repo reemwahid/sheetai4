{
 "cells": [
  {
   "cell_type": "code",
   "execution_count": null,
   "id": "92ed0b13",
   "metadata": {},
   "outputs": [],
   "source": [
    "from logic import *\n",
    "kirke=  Symbol(\"kirke\")\n",
    "city=  Symbol(\"city (x)\")\n",
    "hate=  Symbol(\"hate\")\n",
    "crowdy= symbol(\"crowdy\")\n",
    "big =symbol (\"big\")\n",
    "\n",
    "anyone_hate_city= Symbol city(big,crowdy) ==>(hate(kirke,city))\n",
    "\n",
    "knowledge1 = And(\n",
    " Implication(anyone_hate_city,kirke )\n",
    ")\n",
    "print(knowledge1.formula())"
   ]
  }
 ],
 "metadata": {
  "kernelspec": {
   "display_name": "Python 3",
   "language": "python",
   "name": "python3"
  },
  "language_info": {
   "codemirror_mode": {
    "name": "ipython",
    "version": 3
   },
   "file_extension": ".py",
   "mimetype": "text/x-python",
   "name": "python",
   "nbconvert_exporter": "python",
   "pygments_lexer": "ipython3",
   "version": "3.8.8"
  }
 },
 "nbformat": 4,
 "nbformat_minor": 5
}
