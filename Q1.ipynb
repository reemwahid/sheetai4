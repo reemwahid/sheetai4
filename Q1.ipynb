{
 "cells": [
  {
   "cell_type": "code",
   "execution_count": null,
   "id": "a9bdcc2e",
   "metadata": {},
   "outputs": [],
   "source": [
    "from logic import *\n",
    "carrots=  Symbol(\"carrots\")\n",
    "orange=  Symbol(\"orange\")\n",
    "knowledge = And(\n",
    " Implication(carrots, orange)\n",
    ")\n",
    "\n",
    "print(knowledge.formula())\n"
   ]
  },
  {
   "cell_type": "code",
   "execution_count": null,
   "id": "99e13d5d",
   "metadata": {},
   "outputs": [],
   "source": [
    "person=  Symbol(\"person\")\n",
    "carrots=  Symbol(\"carrots\")\n",
    "vegetarian=  Symbol(\"vegetarian (x)\")\n",
    "like=  Symbol(\"like\")\n",
    "like_person_carrots = Symbol(like (person,carrots))\n",
    "\n",
    "knowledge1 = And(\n",
    " Implication(like_person_carrots,vegetarian )\n",
    ")\n",
    "print(knowledge1.formula())"
   ]
  },
  {
   "cell_type": "code",
   "execution_count": null,
   "id": "13e43938",
   "metadata": {},
   "outputs": [],
   "source": [
    "student =Symbol (\"student\")\n",
    "passes =Symbol (\"passes\")\n",
    "study_hard =Symbol (\"study_hard\")\n",
    "\n",
    "knowledge2 = And(\n",
    " Implication(study_hard(student,passes) )\n",
    ")\n",
    "print(knowledge2.formula())"
   ]
  },
  {
   "cell_type": "code",
   "execution_count": null,
   "id": "06989904",
   "metadata": {},
   "outputs": [],
   "source": [
    "x =Symbol (\"x\")\n",
    "y =Symbol (\"y\")\n",
    "hate=Symbol (\"hate\")\n",
    "fight = Symbol (\"fight\")\n",
    "enemies =Symbol (\"enemies\")\n",
    "\n",
    "\n",
    "knowledge3 = And(\n",
    " Implication(fight and hate(enemies(x,y) )\n",
    ")\n",
    "print(knowledge3.formula())"
   ]
  }
 ],
 "metadata": {
  "kernelspec": {
   "display_name": "Python 3",
   "language": "python",
   "name": "python3"
  },
  "language_info": {
   "codemirror_mode": {
    "name": "ipython",
    "version": 3
   },
   "file_extension": ".py",
   "mimetype": "text/x-python",
   "name": "python",
   "nbconvert_exporter": "python",
   "pygments_lexer": "ipython3",
   "version": "3.8.8"
  }
 },
 "nbformat": 4,
 "nbformat_minor": 5
}
